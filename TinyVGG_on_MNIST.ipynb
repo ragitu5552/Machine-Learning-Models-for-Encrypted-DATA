{
  "nbformat": 4,
  "nbformat_minor": 0,
  "metadata": {
    "colab": {
      "provenance": [],
      "gpuType": "T4"
    },
    "kernelspec": {
      "name": "python3",
      "display_name": "Python 3"
    },
    "language_info": {
      "name": "python"
    },
    "accelerator": "GPU"
  },
  "cells": [
    {
      "cell_type": "code",
      "source": [
        "import torch\n",
        "from torch import nn\n",
        "import pandas as pd\n",
        "import matplotlib.pyplot as plt\n",
        "from torchvision import datasets\n",
        "from torchvision import transforms\n",
        "from torchvision.transforms import ToTensor\n",
        "device = \"cuda\" if torch.cuda.is_available() else \"cpu\"\n",
        "device"
      ],
      "metadata": {
        "colab": {
          "base_uri": "https://localhost:8080/",
          "height": 35
        },
        "id": "uMPdfHfgE-Kq",
        "outputId": "c0c0ab4f-c55a-4b56-9bd1-9ddcb41ac027"
      },
      "execution_count": 1,
      "outputs": [
        {
          "output_type": "execute_result",
          "data": {
            "text/plain": [
              "'cuda'"
            ],
            "application/vnd.google.colaboratory.intrinsic+json": {
              "type": "string"
            }
          },
          "metadata": {},
          "execution_count": 1
        }
      ]
    },
    {
      "cell_type": "code",
      "source": [
        "train_data = datasets.MNIST(\n",
        "    root=\"data\",\n",
        "    train=True,\n",
        "    download=True,\n",
        "    transform=ToTensor(),\n",
        "    target_transform=None\n",
        ")\n",
        "test_data = datasets.MNIST(\n",
        "    root=\"data\",\n",
        "    train=False,\n",
        "    download=True,\n",
        "    transform=ToTensor(),\n",
        "    target_transform=None\n",
        ")"
      ],
      "metadata": {
        "colab": {
          "base_uri": "https://localhost:8080/"
        },
        "id": "FuY1EelrFHmM",
        "outputId": "af6a0fa0-f617-43c0-b7d1-d5baeaba3089"
      },
      "execution_count": 2,
      "outputs": [
        {
          "output_type": "stream",
          "name": "stdout",
          "text": [
            "Downloading http://yann.lecun.com/exdb/mnist/train-images-idx3-ubyte.gz\n",
            "Failed to download (trying next):\n",
            "HTTP Error 403: Forbidden\n",
            "\n",
            "Downloading https://ossci-datasets.s3.amazonaws.com/mnist/train-images-idx3-ubyte.gz\n",
            "Downloading https://ossci-datasets.s3.amazonaws.com/mnist/train-images-idx3-ubyte.gz to data/MNIST/raw/train-images-idx3-ubyte.gz\n"
          ]
        },
        {
          "output_type": "stream",
          "name": "stderr",
          "text": [
            "100%|██████████| 9912422/9912422 [00:10<00:00, 957193.55it/s] \n"
          ]
        },
        {
          "output_type": "stream",
          "name": "stdout",
          "text": [
            "Extracting data/MNIST/raw/train-images-idx3-ubyte.gz to data/MNIST/raw\n",
            "\n",
            "Downloading http://yann.lecun.com/exdb/mnist/train-labels-idx1-ubyte.gz\n",
            "Failed to download (trying next):\n",
            "HTTP Error 403: Forbidden\n",
            "\n",
            "Downloading https://ossci-datasets.s3.amazonaws.com/mnist/train-labels-idx1-ubyte.gz\n",
            "Downloading https://ossci-datasets.s3.amazonaws.com/mnist/train-labels-idx1-ubyte.gz to data/MNIST/raw/train-labels-idx1-ubyte.gz\n"
          ]
        },
        {
          "output_type": "stream",
          "name": "stderr",
          "text": [
            "100%|██████████| 28881/28881 [00:00<00:00, 159633.14it/s]\n"
          ]
        },
        {
          "output_type": "stream",
          "name": "stdout",
          "text": [
            "Extracting data/MNIST/raw/train-labels-idx1-ubyte.gz to data/MNIST/raw\n",
            "\n",
            "Downloading http://yann.lecun.com/exdb/mnist/t10k-images-idx3-ubyte.gz\n",
            "Failed to download (trying next):\n",
            "HTTP Error 403: Forbidden\n",
            "\n",
            "Downloading https://ossci-datasets.s3.amazonaws.com/mnist/t10k-images-idx3-ubyte.gz\n",
            "Downloading https://ossci-datasets.s3.amazonaws.com/mnist/t10k-images-idx3-ubyte.gz to data/MNIST/raw/t10k-images-idx3-ubyte.gz\n"
          ]
        },
        {
          "output_type": "stream",
          "name": "stderr",
          "text": [
            "100%|██████████| 1648877/1648877 [00:01<00:00, 1511512.33it/s]\n"
          ]
        },
        {
          "output_type": "stream",
          "name": "stdout",
          "text": [
            "Extracting data/MNIST/raw/t10k-images-idx3-ubyte.gz to data/MNIST/raw\n",
            "\n",
            "Downloading http://yann.lecun.com/exdb/mnist/t10k-labels-idx1-ubyte.gz\n",
            "Failed to download (trying next):\n",
            "HTTP Error 403: Forbidden\n",
            "\n",
            "Downloading https://ossci-datasets.s3.amazonaws.com/mnist/t10k-labels-idx1-ubyte.gz\n",
            "Downloading https://ossci-datasets.s3.amazonaws.com/mnist/t10k-labels-idx1-ubyte.gz to data/MNIST/raw/t10k-labels-idx1-ubyte.gz\n"
          ]
        },
        {
          "output_type": "stream",
          "name": "stderr",
          "text": [
            "100%|██████████| 4542/4542 [00:00<00:00, 4464618.88it/s]"
          ]
        },
        {
          "output_type": "stream",
          "name": "stdout",
          "text": [
            "Extracting data/MNIST/raw/t10k-labels-idx1-ubyte.gz to data/MNIST/raw\n",
            "\n"
          ]
        },
        {
          "output_type": "stream",
          "name": "stderr",
          "text": [
            "\n"
          ]
        }
      ]
    },
    {
      "cell_type": "code",
      "source": [
        "from torch.utils.data import DataLoader\n",
        "BATCH_SIZE = 32\n",
        "train_dataloader = DataLoader(dataset=train_data,\n",
        "                              batch_size=BATCH_SIZE,\n",
        "                              shuffle=True)\n",
        "test_dataloader = DataLoader(dataset=test_data,\n",
        "                             batch_size=BATCH_SIZE,\n",
        "                             shuffle=False)"
      ],
      "metadata": {
        "id": "UJiI0vdzFLLo"
      },
      "execution_count": 3,
      "outputs": []
    },
    {
      "cell_type": "code",
      "source": [
        "def accuracy_fn(y_true, y_pred):\n",
        "    correct = torch.eq(y_true, y_pred).sum().item() # torch.eq() calculates where two tensors are equal\n",
        "    acc = (correct / len(y_pred)) * 100\n",
        "    return acc"
      ],
      "metadata": {
        "id": "GLsjs2MCFTSW"
      },
      "execution_count": 4,
      "outputs": []
    },
    {
      "cell_type": "code",
      "source": [
        "def train_step(model,\n",
        "               data_loader,\n",
        "               loss_fn,\n",
        "               optimizer,\n",
        "               accuracy_fn,\n",
        "               device=device):\n",
        "    train_loss, train_acc = 0, 0\n",
        "    model.train()\n",
        "    for batch, (X, y) in enumerate(data_loader):\n",
        "        X, y = X.to(device), y.to(device)\n",
        "        y_pred = model(X)\n",
        "        loss = loss_fn(y_pred, y)\n",
        "        train_loss += loss\n",
        "        acc = accuracy_fn(y_true=y, y_pred=y_pred.argmax(dim=1))\n",
        "        train_acc += acc\n",
        "        optimizer.zero_grad()\n",
        "        loss.backward()\n",
        "        optimizer.step()\n",
        "\n",
        "    train_loss /= len(data_loader)\n",
        "    train_acc /= len(data_loader)\n",
        "    print(f\"Train Loss: {train_loss:.5f} | Train Acc: {train_acc:.2f}%\")"
      ],
      "metadata": {
        "id": "ST7D_sg7FUTt"
      },
      "execution_count": 5,
      "outputs": []
    },
    {
      "cell_type": "code",
      "source": [
        "def test_step(model,\n",
        "              data_loader,\n",
        "              loss_fn,\n",
        "              optimizer,\n",
        "              accuracy_fn,\n",
        "              device=device):\n",
        "    test_loss, test_acc = 0, 0\n",
        "    model.eval()\n",
        "    with torch.inference_mode():\n",
        "        for batch, (X,y) in enumerate(data_loader):\n",
        "            X, y = X.to(device), y.to(device)\n",
        "            y_pred = model(X)\n",
        "            loss = loss_fn(y_pred, y)\n",
        "            test_loss += loss\n",
        "            acc = accuracy_fn(y_true=y, y_pred=y_pred.argmax(dim=1))\n",
        "            test_acc += acc\n",
        "        test_loss /= len(data_loader)\n",
        "        test_acc /= len(data_loader)\n",
        "        print(f\"Test Loss: {test_loss:.5f} | Test Acc: {test_acc:.2f}%\")"
      ],
      "metadata": {
        "id": "erD2-zdPFYgd"
      },
      "execution_count": 6,
      "outputs": []
    },
    {
      "cell_type": "code",
      "source": [
        "class MNIST_CNN(nn.Module):\n",
        "    def __init__(self, input_shape, hidden_units, output_shape):\n",
        "        super().__init__()\n",
        "        self.conv_block_1 = nn.Sequential(\n",
        "            nn.Conv2d(in_channels=input_shape,\n",
        "                      out_channels=hidden_units,\n",
        "                      kernel_size=3,\n",
        "                      stride=1,\n",
        "                      padding=1),\n",
        "            nn.ReLU(),\n",
        "            nn.Conv2d(in_channels=hidden_units,\n",
        "                      out_channels=hidden_units,\n",
        "                      kernel_size=3,\n",
        "                      stride=1,\n",
        "                      padding=1),\n",
        "            nn.ReLU(),\n",
        "            nn.MaxPool2d(kernel_size=2)\n",
        "        )\n",
        "        self.conv_block_2 = nn.Sequential(\n",
        "            nn.Conv2d(in_channels=hidden_units,\n",
        "                      out_channels=hidden_units,\n",
        "                      kernel_size=3,\n",
        "                      stride=1,\n",
        "                      padding=1),\n",
        "            nn.ReLU(),\n",
        "            nn.Conv2d(in_channels=hidden_units,\n",
        "                      out_channels=hidden_units,\n",
        "                      kernel_size=3,\n",
        "                      stride=1,\n",
        "                      padding=1),\n",
        "            nn.ReLU(),\n",
        "            nn.MaxPool2d(kernel_size=2)\n",
        "        )\n",
        "        self.classifier = nn.Sequential(\n",
        "            nn.Flatten(),\n",
        "            nn.Linear(in_features=hidden_units*7*7,\n",
        "                      out_features=output_shape)\n",
        "        )\n",
        "    def forward(self, x):\n",
        "        x=self.conv_block_1(x)\n",
        "        x=self.conv_block_2(x)\n",
        "        x=self.classifier(x)\n",
        "        return x"
      ],
      "metadata": {
        "id": "QZwDsD3OFcP8"
      },
      "execution_count": 7,
      "outputs": []
    },
    {
      "cell_type": "code",
      "source": [
        "def _approximated_ReLU(x):\n",
        "    return 0.117071 * x**2 + 0.5 * x + 0.375373\n",
        "\n",
        "class Square(torch.nn.Module):\n",
        "    def forward(self, x):\n",
        "        return x**2\n",
        "\n",
        "class ApproxReLU(torch.nn.Module):\n",
        "    def forward(self, x):\n",
        "        return _approximated_ReLU(x)\n",
        "\n",
        "class Flatten(torch.nn.Module):\n",
        "    def forward(self, x):\n",
        "        return torch.flatten(x, 1)"
      ],
      "metadata": {
        "id": "hAO1ApXmGH0P"
      },
      "execution_count": 12,
      "outputs": []
    },
    {
      "cell_type": "code",
      "source": [
        "class approx_tinyVGG(nn.Module):\n",
        "    def __init__(self, input_shape, hidden_units, output_shape):\n",
        "        super().__init__()\n",
        "        self.conv1_1 = nn.Conv2d(in_channels=input_shape,\n",
        "                                 out_channels=hidden_units,\n",
        "                                 kernel_size=3,\n",
        "                                 stride=1,\n",
        "                                 padding=1)\n",
        "        self.relu1_1 = ApproxReLU()\n",
        "        self.conv1_2 = nn.Conv2d(in_channels=hidden_units,\n",
        "                                 out_channels=hidden_units,\n",
        "                                 kernel_size=3,\n",
        "                                 stride=1,\n",
        "                                 padding=1)\n",
        "        self.relu1_2 = ApproxReLU()\n",
        "        self.maxpool1 = nn.AvgPool2d(kernel_size=2) #nn.MaxPool2d(kernel_size=2)\n",
        "\n",
        "        self.conv2_1 = nn.Conv2d(in_channels=hidden_units,\n",
        "                                 out_channels=hidden_units,\n",
        "                                 kernel_size=3,\n",
        "                                 stride=1,\n",
        "                                 padding=1)\n",
        "        self.relu2_1 = ApproxReLU()\n",
        "        self.conv2_2 = nn.Conv2d(in_channels=hidden_units,\n",
        "                                 out_channels=hidden_units,\n",
        "                                 kernel_size=3,\n",
        "                                 stride=1,\n",
        "                                 padding=1)\n",
        "        self.relu2_2 = ApproxReLU()\n",
        "        self.maxpool2 = nn.AvgPool2d(kernel_size=2)\n",
        "\n",
        "        self.flatten = nn.Flatten()\n",
        "        self.fc = nn.Linear(in_features=hidden_units*7*7,\n",
        "                            out_features=output_shape)\n",
        "\n",
        "    def forward(self, x):\n",
        "        x = self.conv1_1(x)\n",
        "        x = self.relu1_1(x)\n",
        "        x = self.conv1_2(x)\n",
        "        x = self.relu1_2(x)\n",
        "        x = self.maxpool1(x)\n",
        "\n",
        "        x = self.conv2_1(x)\n",
        "        x = self.relu2_1(x)\n",
        "        x = self.conv2_2(x)\n",
        "        x = self.relu2_2(x)\n",
        "        x = self.maxpool2(x)\n",
        "\n",
        "        x = self.flatten(x)\n",
        "        x = self.fc(x)\n",
        "        return x\n"
      ],
      "metadata": {
        "id": "ivf9kFgJGIN9"
      },
      "execution_count": 13,
      "outputs": []
    },
    {
      "cell_type": "code",
      "source": [
        "class_names = train_data.classes\n",
        "class_names"
      ],
      "metadata": {
        "colab": {
          "base_uri": "https://localhost:8080/"
        },
        "id": "4o_SlmWEFvcF",
        "outputId": "fe4a0b0f-c363-4280-986d-44f0552d98c0"
      },
      "execution_count": 9,
      "outputs": [
        {
          "output_type": "execute_result",
          "data": {
            "text/plain": [
              "['0 - zero',\n",
              " '1 - one',\n",
              " '2 - two',\n",
              " '3 - three',\n",
              " '4 - four',\n",
              " '5 - five',\n",
              " '6 - six',\n",
              " '7 - seven',\n",
              " '8 - eight',\n",
              " '9 - nine']"
            ]
          },
          "metadata": {},
          "execution_count": 9
        }
      ]
    },
    {
      "cell_type": "code",
      "source": [
        "model = MNIST_CNN(input_shape=1,\n",
        "                  hidden_units=10,\n",
        "                  output_shape=len(class_names)).to(device)\n",
        "loss_fn = nn.CrossEntropyLoss()\n",
        "optimizer = torch.optim.SGD(params=model.parameters(),\n",
        "                            lr=0.1)"
      ],
      "metadata": {
        "id": "ezIQOFq2Fios"
      },
      "execution_count": 10,
      "outputs": []
    },
    {
      "cell_type": "code",
      "source": [
        "torch.manual_seed(42)\n",
        "torch.cuda.manual_seed(42)\n",
        "epochs = 10\n",
        "for epoch in range(epochs):\n",
        "    print(f\"Epoch {epoch}\\n --------------------------\")\n",
        "    train_step(model=model,\n",
        "            accuracy_fn=accuracy_fn,\n",
        "            loss_fn=loss_fn,\n",
        "            data_loader=train_dataloader,\n",
        "            optimizer=optimizer)\n",
        "    test_step(model=model,\n",
        "              accuracy_fn=accuracy_fn,\n",
        "              loss_fn=loss_fn,\n",
        "              data_loader=test_dataloader,\n",
        "              optimizer=optimizer)"
      ],
      "metadata": {
        "colab": {
          "base_uri": "https://localhost:8080/"
        },
        "id": "dMOOGGeUFjWt",
        "outputId": "30c7007e-ff94-4d43-c2d0-38628beee1c3"
      },
      "execution_count": 11,
      "outputs": [
        {
          "output_type": "stream",
          "name": "stdout",
          "text": [
            "Epoch 0\n",
            " --------------------------\n",
            "Train Loss: 0.29150 | Train Acc: 90.17%\n",
            "Test Loss: 0.06661 | Test Acc: 97.96%\n",
            "Epoch 1\n",
            " --------------------------\n",
            "Train Loss: 0.06825 | Train Acc: 97.87%\n",
            "Test Loss: 0.05069 | Test Acc: 98.34%\n",
            "Epoch 2\n",
            " --------------------------\n",
            "Train Loss: 0.05269 | Train Acc: 98.39%\n",
            "Test Loss: 0.04888 | Test Acc: 98.51%\n",
            "Epoch 3\n",
            " --------------------------\n",
            "Train Loss: 0.04474 | Train Acc: 98.60%\n",
            "Test Loss: 0.04513 | Test Acc: 98.57%\n",
            "Epoch 4\n",
            " --------------------------\n",
            "Train Loss: 0.03900 | Train Acc: 98.80%\n",
            "Test Loss: 0.03755 | Test Acc: 98.68%\n",
            "Epoch 5\n",
            " --------------------------\n",
            "Train Loss: 0.03589 | Train Acc: 98.87%\n",
            "Test Loss: 0.03873 | Test Acc: 98.71%\n",
            "Epoch 6\n",
            " --------------------------\n",
            "Train Loss: 0.03311 | Train Acc: 98.95%\n",
            "Test Loss: 0.04767 | Test Acc: 98.43%\n",
            "Epoch 7\n",
            " --------------------------\n",
            "Train Loss: 0.02999 | Train Acc: 99.02%\n",
            "Test Loss: 0.03848 | Test Acc: 98.71%\n",
            "Epoch 8\n",
            " --------------------------\n",
            "Train Loss: 0.02814 | Train Acc: 99.12%\n",
            "Test Loss: 0.03357 | Test Acc: 98.84%\n",
            "Epoch 9\n",
            " --------------------------\n",
            "Train Loss: 0.02577 | Train Acc: 99.17%\n",
            "Test Loss: 0.03590 | Test Acc: 98.85%\n"
          ]
        }
      ]
    },
    {
      "cell_type": "code",
      "source": [
        "model = approx_tinyVGG(input_shape=1,\n",
        "                  hidden_units=10,\n",
        "                  output_shape=len(class_names)).to(device)\n",
        "loss_fn = nn.CrossEntropyLoss()\n",
        "optimizer = torch.optim.SGD(params=model.parameters(),\n",
        "                            lr=0.1)"
      ],
      "metadata": {
        "id": "gkm3iOt_IFaA"
      },
      "execution_count": 14,
      "outputs": []
    },
    {
      "cell_type": "code",
      "source": [
        "torch.manual_seed(42)\n",
        "torch.cuda.manual_seed(42)\n",
        "epochs = 10\n",
        "for epoch in range(epochs):\n",
        "    print(f\"Epoch {epoch}\\n --------------------------\")\n",
        "    train_step(model=model,\n",
        "            accuracy_fn=accuracy_fn,\n",
        "            loss_fn=loss_fn,\n",
        "            data_loader=train_dataloader,\n",
        "            optimizer=optimizer)\n",
        "    test_step(model=model,\n",
        "              accuracy_fn=accuracy_fn,\n",
        "              loss_fn=loss_fn,\n",
        "              data_loader=test_dataloader,\n",
        "              optimizer=optimizer)"
      ],
      "metadata": {
        "colab": {
          "base_uri": "https://localhost:8080/"
        },
        "id": "X3PrPyXcF4fA",
        "outputId": "e0a3cc0e-bbfb-48d9-9411-a8c1655b9ca2"
      },
      "execution_count": 15,
      "outputs": [
        {
          "output_type": "stream",
          "name": "stdout",
          "text": [
            "Epoch 0\n",
            " --------------------------\n",
            "Train Loss: nan | Train Acc: 11.19%\n",
            "Test Loss: nan | Test Acc: 9.79%\n",
            "Epoch 1\n",
            " --------------------------\n",
            "Train Loss: nan | Train Acc: 9.87%\n",
            "Test Loss: nan | Test Acc: 9.79%\n",
            "Epoch 2\n",
            " --------------------------\n",
            "Train Loss: nan | Train Acc: 9.87%\n",
            "Test Loss: nan | Test Acc: 9.79%\n",
            "Epoch 3\n",
            " --------------------------\n",
            "Train Loss: nan | Train Acc: 9.87%\n",
            "Test Loss: nan | Test Acc: 9.79%\n",
            "Epoch 4\n",
            " --------------------------\n",
            "Train Loss: nan | Train Acc: 9.87%\n",
            "Test Loss: nan | Test Acc: 9.79%\n",
            "Epoch 5\n",
            " --------------------------\n",
            "Train Loss: nan | Train Acc: 9.87%\n",
            "Test Loss: nan | Test Acc: 9.79%\n",
            "Epoch 6\n",
            " --------------------------\n",
            "Train Loss: nan | Train Acc: 9.87%\n",
            "Test Loss: nan | Test Acc: 9.79%\n",
            "Epoch 7\n",
            " --------------------------\n",
            "Train Loss: nan | Train Acc: 9.87%\n",
            "Test Loss: nan | Test Acc: 9.79%\n",
            "Epoch 8\n",
            " --------------------------\n",
            "Train Loss: nan | Train Acc: 9.87%\n",
            "Test Loss: nan | Test Acc: 9.79%\n",
            "Epoch 9\n",
            " --------------------------\n",
            "Train Loss: nan | Train Acc: 9.87%\n",
            "Test Loss: nan | Test Acc: 9.79%\n"
          ]
        }
      ]
    }
  ]
}